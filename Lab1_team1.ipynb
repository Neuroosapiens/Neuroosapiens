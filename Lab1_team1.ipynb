{
 "cells": [
  {
   "cell_type": "markdown",
   "id": "b210bda0",
   "metadata": {},
   "source": [
    "### Before running this program. Make sure you have \"Image.png\", \"trimmed_lab1.mp4\" files in your directory. They are available at https://github.com/Neuroosapiens/Neuroosapiens"
   ]
  },
  {
   "cell_type": "code",
   "execution_count": null,
   "id": "a901434c",
   "metadata": {},
   "outputs": [],
   "source": [
    "import numpy as np\n",
    "import seaborn as sns\n",
    "import scipy.stats as stats\n",
    "import matplotlib.pyplot as plt\n",
    "import pandas as pd\n",
    "import cv2 "
   ]
  },
  {
   "cell_type": "markdown",
   "id": "1d7309ae",
   "metadata": {},
   "source": [
    "# 1st problem"
   ]
  },
  {
   "cell_type": "code",
   "execution_count": null,
   "id": "d3b6e39b",
   "metadata": {},
   "outputs": [],
   "source": [
    "raw_img = cv2.imread(\"Image.png\")"
   ]
  },
  {
   "cell_type": "code",
   "execution_count": null,
   "id": "a4478f60",
   "metadata": {},
   "outputs": [],
   "source": [
    "# matlab plot follow RGB format, cv2 follows BGR format for reading images.\n",
    "fig = plt.figure(figsize=(10,10))\n",
    "plt.imshow(raw_img)\n",
    "plt.title(\"Orginal Picture without BGR Conversion\") \n",
    "fig.show()"
   ]
  },
  {
   "cell_type": "code",
   "execution_count": null,
   "id": "af280745",
   "metadata": {},
   "outputs": [],
   "source": [
    "converted_rawimg = cv2.cvtColor(raw_img, cv2.COLOR_BGR2RGB)    "
   ]
  },
  {
   "cell_type": "code",
   "execution_count": null,
   "id": "a007e461",
   "metadata": {},
   "outputs": [],
   "source": [
    "fig1 = plt.figure(figsize=(18,18))\n",
    "ax = plt.subplot(2,2,1)\n",
    "plt.imshow(converted_rawimg)\n",
    "#calculate histogram for converted image plot\n",
    "ax = plt.subplot(2,2,2)\n",
    "for i, col in enumerate(['r','g','b']):\n",
    "    hist = cv2.calcHist([converted_rawimg],[i],None,[256],[0,256])\n",
    "    ax.plot(hist, color = col)\n",
    "    \n",
    "fig1.suptitle(\"Orginal Picture Converted from BGR to RGB\") \n",
    "fig1.show()"
   ]
  },
  {
   "cell_type": "code",
   "execution_count": null,
   "id": "3fa90733",
   "metadata": {
    "scrolled": true
   },
   "outputs": [],
   "source": [
    "fig2 = plt.figure(figsize=(18,18))\n",
    "egde_detection = cv2.Canny(converted_rawimg,10,100)\n",
    "plt.imshow(egde_detection)\n",
    "plt.text(100, 100,\"Lane Detection using Canny Edge Filter\",size=22,color=\"white\",fontweight=\"bold\" )\n",
    "fig2.show()"
   ]
  },
  {
   "cell_type": "code",
   "execution_count": null,
   "id": "aa555261",
   "metadata": {},
   "outputs": [],
   "source": [
    "BW_rawimg = cv2.cvtColor(raw_img, cv2.COLOR_BGR2GRAY)\n",
    "#conversion from BGR to  RGB format\n",
    "gray_rawimg = cv2.cvtColor(BW_rawimg,cv2.COLOR_BGR2RGB)\n",
    "fig3 = plt.figure(figsize=(18,18))\n",
    "plt.imshow(gray_rawimg)\n",
    "plt.title(\"Orginal Picture Converted to gray scale form\") \n",
    "fig3.show()"
   ]
  },
  {
   "cell_type": "code",
   "execution_count": null,
   "id": "8c8f6443",
   "metadata": {},
   "outputs": [],
   "source": [
    "# perform binary thresholding on above gray scale image\n",
    "\n",
    "ret, threshold = cv2.threshold(gray_rawimg, 125, 255, cv2.THRESH_BINARY)\n",
    "fig4 = plt.figure(figsize=(18,18))\n",
    "plt.imshow(threshold)\n",
    "plt.title(\"Orginal Picture Converted to gray scale form\") \n",
    "plt.text(100, 100,\"Lane Detection using Binary Threshold Filter (Threshold = 120)\",size=22,color=\"green\",fontweight=\"bold\" )\n",
    "fig4.show()"
   ]
  },
  {
   "cell_type": "code",
   "execution_count": null,
   "id": "c4e0a211",
   "metadata": {},
   "outputs": [],
   "source": [
    "!pip install moviepy"
   ]
  },
  {
   "cell_type": "markdown",
   "id": "5160c385",
   "metadata": {},
   "source": [
    "# 2nd problem"
   ]
  },
  {
   "cell_type": "code",
   "execution_count": null,
   "id": "6008442e",
   "metadata": {},
   "outputs": [],
   "source": [
    "#from moviepy.editor import *\n",
    "#lab1_video = VideoFileClip(\"Lab1.avi\")\n",
    "#lab1_video.ipython_display(width=280, maxduration=300)"
   ]
  },
  {
   "cell_type": "code",
   "execution_count": null,
   "id": "cc9b3f7d",
   "metadata": {},
   "outputs": [],
   "source": [
    "# video was clipped from 1:35 to 1:45 ( 95 seconds to 105 seconds)\n",
    "#trimmed_video = lab1_video.subclip(95,105)\n",
    "#trimmed_video.write_videofile(\"trimmed_lab1.mp4\") # default codec: 'libx264', 24 fps\n",
    "#trimmed_video.ipython_display(width=500)"
   ]
  },
  {
   "cell_type": "code",
   "execution_count": null,
   "id": "eba3952b",
   "metadata": {
    "scrolled": false
   },
   "outputs": [],
   "source": [
    "\n",
    "# open the video file\n",
    "cap = cv2.VideoCapture(\"trimmed_lab1.mp4\")\n",
    "#calculate number of frames\n",
    "fps = cap.get(cv2.CAP_PROP_FPS)\n",
    "\n",
    "#Total no of frames in the video capture during our lab 1 test demo\n",
    "totalFrames = cap.get(cv2.CAP_PROP_FRAME_COUNT)\n",
    "duration = float(totalFrames) / float (fps)\n",
    "print(fps)\n",
    "#Read the video file\n",
    "while(cap.isOpened()):\n",
    "    ret, frame = cap.read()\n",
    "#Check if there are any frames in video\n",
    "    if ret == True:\n",
    "#do processing of frames\n",
    "        edgeDet = cv2.Canny(frame,50,100)\n",
    "#show the frames available in the video\n",
    "        cv2.imshow(\"Lane detection\", edgeDet)\n",
    "# to exit the window press \"q\" key\n",
    "        if cv2.waitKey(25) & 0xFF == ord('q'):\n",
    "         break\n",
    "# else loop break\n",
    "    else:\n",
    "      break\n",
    "    \n",
    "# release the video capture object\n",
    "cap.release()\n",
    "# destroy all windows\n",
    "cv2.destroyAllWindows()"
   ]
  },
  {
   "cell_type": "code",
   "execution_count": null,
   "id": "12fdd5f4",
   "metadata": {},
   "outputs": [],
   "source": []
  },
  {
   "cell_type": "code",
   "execution_count": null,
   "id": "9d4bf8d1",
   "metadata": {},
   "outputs": [],
   "source": []
  }
 ],
 "metadata": {
  "kernelspec": {
   "display_name": "Python 3",
   "language": "python",
   "name": "python3"
  },
  "language_info": {
   "codemirror_mode": {
    "name": "ipython",
    "version": 3
   },
   "file_extension": ".py",
   "mimetype": "text/x-python",
   "name": "python",
   "nbconvert_exporter": "python",
   "pygments_lexer": "ipython3",
   "version": "3.7.10"
  }
 },
 "nbformat": 4,
 "nbformat_minor": 5
}
